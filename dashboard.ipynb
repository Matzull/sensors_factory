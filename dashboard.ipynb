{
 "cells": [
  {
   "cell_type": "code",
   "execution_count": 26,
   "metadata": {},
   "outputs": [],
   "source": [
    "import requests\n",
    "from plotly import graph_objs as go\n",
    "from plotly.subplots import make_subplots"
   ]
  },
  {
   "cell_type": "code",
   "execution_count": 27,
   "metadata": {},
   "outputs": [],
   "source": [
    "def plot_data():\n",
    "    response = requests.get(\"http://127.0.0.1:8998/get_history/\")\n",
    "    history = response.json()\n",
    "\n",
    "    # Crear un subplot con una fila por cada sensor\n",
    "    num_sensors = len(history)\n",
    "    fig = make_subplots(\n",
    "        rows=num_sensors, cols=1, \n",
    "        shared_xaxes=True, \n",
    "        # vertical_spacing=0.04, \n",
    "        subplot_titles=[f'Sensor {sensor_id}' for sensor_id in history]\n",
    "    )\n",
    "\n",
    "    # Añadir trazas a cada subplot\n",
    "    for i, (sensor_id, values) in enumerate(history.items(), start=1):\n",
    "        fig.add_trace(\n",
    "            go.Scatter(\n",
    "                x=list(range(len(values))),\n",
    "                y=values,\n",
    "                mode='lines+markers',\n",
    "                name=f'Sensor {sensor_id}'\n",
    "            ),\n",
    "            row=i, col=1\n",
    "        )\n",
    "\n",
    "    fig.update_layout(\n",
    "        height=300 * num_sensors,  # Ajustar el tamaño según el número de sensores\n",
    "        title_text=\"Sensor Data Over Time\",\n",
    "        showlegend=False\n",
    "    )\n",
    "\n",
    "    fig.show()"
   ]
  },
  {
   "cell_type": "code",
   "execution_count": 28,
   "metadata": {},
   "outputs": [
    {
     "data": {
      "application/vnd.plotly.v1+json": {
       "config": {
        "plotlyServerURL": "https://plot.ly"
       },
       "data": [
        {
         "mode": "lines+markers",
         "name": "Sensor 1",
         "type": "scatter",
         "x": [
          0,
          1,
          2,
          3,
          4,
          5,
          6,
          7,
          8,
          9,
          10,
          11,
          12,
          13,
          14,
          15,
          16,
          17,
          18,
          19,
          20,
          21,
          22,
          23,
          24,
          25,
          26,
          27,
          28,
          29,
          30,
          31,
          32,
          33
         ],
         "xaxis": "x",
         "y": [
          891.17,
          912.17,
          930.88,
          947.83,
          963.21,
          976.83,
          989.03,
          999.93,
          1010.05,
          1019.1,
          1027.17,
          1034.55,
          1040.9,
          1046.69,
          1052.08,
          1057.01,
          1061.26,
          1065.05,
          1068.66,
          1071.75,
          1074.48,
          1076.91,
          1079.06,
          1081.17,
          1083.04,
          1084.91,
          1086.44,
          1087.71,
          1088.97,
          1090.15,
          1091.25,
          1092.23,
          1093.09,
          1093.79
         ],
         "yaxis": "y"
        },
        {
         "mode": "lines+markers",
         "name": "Sensor 2",
         "type": "scatter",
         "x": [
          0,
          1,
          2,
          3,
          4,
          5,
          6,
          7,
          8,
          9,
          10,
          11,
          12,
          13,
          14,
          15,
          16,
          17,
          18,
          19,
          20,
          21,
          22,
          23,
          24,
          25
         ],
         "xaxis": "x2",
         "y": [
          3.94,
          4.49,
          5.11,
          5.6,
          6.06,
          6.51,
          6.86,
          7.3,
          7.6,
          7.79,
          8.03,
          8.34,
          8.62,
          8.79,
          8.94,
          9.08,
          9.24,
          9.33,
          9.51,
          9.75,
          9.99,
          9.95,
          10.04,
          10,
          10.05,
          10.13
         ],
         "yaxis": "y2"
        },
        {
         "mode": "lines+markers",
         "name": "Sensor 3",
         "type": "scatter",
         "x": [
          0,
          1,
          2,
          3,
          4,
          5
         ],
         "xaxis": "x3",
         "y": [
          10.32,
          10.12,
          10.16,
          9.94,
          10.05,
          10.04
         ],
         "yaxis": "y3"
        },
        {
         "mode": "lines+markers",
         "name": "Sensor 4",
         "type": "scatter",
         "x": [
          0,
          1,
          2,
          3,
          4,
          5,
          6,
          7,
          8,
          9,
          10,
          11,
          12
         ],
         "xaxis": "x4",
         "y": [
          1909.6,
          1883.69,
          1860.33,
          1839.19,
          1820.28,
          1803.28,
          1788.05,
          1774.36,
          1761.97,
          1750.96,
          1740.88,
          1731.87,
          1723.74
         ],
         "yaxis": "y4"
        },
        {
         "mode": "lines+markers",
         "name": "Sensor 5",
         "type": "scatter",
         "x": [
          0
         ],
         "xaxis": "x5",
         "y": [
          29.04
         ],
         "yaxis": "y5"
        },
        {
         "mode": "lines+markers",
         "name": "Sensor 6",
         "type": "scatter",
         "x": [
          0,
          1,
          2,
          3,
          4,
          5,
          6,
          7,
          8,
          9,
          10,
          11,
          12,
          13,
          14,
          15,
          16,
          17,
          18,
          19,
          20,
          21,
          22,
          23,
          24,
          25,
          26,
          27,
          28,
          29,
          30,
          31,
          32,
          33
         ],
         "xaxis": "x6",
         "y": [
          1068.06,
          1101.17,
          1130.98,
          1157.82,
          1181.9,
          1203.69,
          1223.19,
          1240.81,
          1256.91,
          1271.42,
          1284.39,
          1295.98,
          1306.53,
          1315.84,
          1324.13,
          1331.61,
          1338.31,
          1344.52,
          1350.2,
          1355.16,
          1359.55,
          1363.54,
          1367.2,
          1370.39,
          1373.34,
          1376.02,
          1378.28,
          1380.41,
          1382.31,
          1384.28,
          1385.89,
          1387.19,
          1388.61,
          1389.7
         ],
         "yaxis": "y6"
        },
        {
         "mode": "lines+markers",
         "name": "Sensor 7",
         "type": "scatter",
         "x": [
          0,
          1,
          2,
          3,
          4,
          5,
          6,
          7,
          8,
          9,
          10,
          11,
          12,
          13,
          14,
          15,
          16,
          17,
          18,
          19,
          20,
          21,
          22,
          23,
          24,
          25
         ],
         "xaxis": "x7",
         "y": [
          6,
          6,
          6,
          6,
          6,
          6,
          6,
          6,
          6,
          6,
          6,
          6,
          6,
          6,
          6,
          6,
          6,
          6,
          6,
          6,
          6,
          6,
          6,
          6,
          6,
          6
         ],
         "yaxis": "y7"
        },
        {
         "mode": "lines+markers",
         "name": "Sensor 8",
         "type": "scatter",
         "x": [
          0,
          1,
          2,
          3,
          4,
          5
         ],
         "xaxis": "x8",
         "y": [
          200,
          200,
          200,
          200,
          200,
          200
         ],
         "yaxis": "y8"
        },
        {
         "mode": "lines+markers",
         "name": "Sensor 9",
         "type": "scatter",
         "x": [
          0,
          1,
          2,
          3,
          4,
          5,
          6,
          7,
          8,
          9,
          10,
          11,
          12
         ],
         "xaxis": "x9",
         "y": [
          22200,
          22200,
          22200,
          22200,
          22200,
          22200,
          22200,
          22200,
          22200,
          22200,
          22200,
          22200,
          22200
         ],
         "yaxis": "y9"
        },
        {
         "mode": "lines+markers",
         "name": "Sensor 10",
         "type": "scatter",
         "x": [
          0
         ],
         "xaxis": "x10",
         "y": [
          40
         ],
         "yaxis": "y10"
        },
        {
         "mode": "lines+markers",
         "name": "Sensor 11",
         "type": "scatter",
         "x": [
          0,
          1,
          2,
          3,
          4,
          5,
          6,
          7,
          8,
          9,
          10,
          11,
          12,
          13,
          14,
          15,
          16,
          17,
          18,
          19,
          20,
          21,
          22,
          23,
          24,
          25,
          26,
          27,
          28,
          29,
          30,
          31,
          32,
          33
         ],
         "xaxis": "x11",
         "y": [
          6822.32,
          7162.34,
          7468.18,
          7743.3,
          7991.08,
          8214.15,
          8414.89,
          8595.37,
          8757.87,
          8904.22,
          9035.75,
          9154.12,
          9260.82,
          9356.76,
          9442.99,
          9520.73,
          9590.86,
          9653.66,
          9710.3,
          9761.13,
          9806.93,
          9848.28,
          9885.52,
          9919.03,
          9949.3,
          9976.56,
          10001,
          10022.79,
          10042.39,
          10060.13,
          10076.46,
          10090.84,
          10103.61,
          10115.33
         ],
         "yaxis": "y11"
        },
        {
         "mode": "lines+markers",
         "name": "Sensor 12",
         "type": "scatter",
         "x": [
          0,
          1,
          2,
          3,
          4,
          5,
          6,
          7,
          8,
          9,
          10,
          11,
          12,
          13,
          14,
          15,
          16,
          17,
          18,
          19,
          20,
          21,
          22,
          23,
          24,
          25
         ],
         "xaxis": "x12",
         "y": [
          1.26,
          1.46,
          1.48,
          1.68,
          1.83,
          1.65,
          1.61,
          1.67,
          1.71,
          1.93,
          2.06,
          2.32,
          2.28,
          2.13,
          1.98,
          1.92,
          2.01,
          2.03,
          2.08,
          1.96,
          2.04,
          2.27,
          2.38,
          2.55,
          2.49,
          2.63
         ],
         "yaxis": "y12"
        },
        {
         "mode": "lines+markers",
         "name": "Sensor 13",
         "type": "scatter",
         "x": [
          0,
          1,
          2,
          3,
          4,
          5
         ],
         "xaxis": "x13",
         "y": [
          -84.31,
          -65.91,
          -49.24,
          -34.38,
          -20.78,
          -8.75
         ],
         "yaxis": "y13"
        },
        {
         "mode": "lines+markers",
         "name": "Sensor 14",
         "type": "scatter",
         "x": [
          0,
          1,
          2,
          3,
          4,
          5,
          6,
          7,
          8,
          9,
          10,
          11,
          12
         ],
         "xaxis": "x14",
         "y": [
          1095.5,
          1136.09,
          1172.47,
          1205.19,
          1234.64,
          1261.02,
          1284.85,
          1306.4,
          1325.82,
          1343.19,
          1359.02,
          1373.18,
          1385.89
         ],
         "yaxis": "y14"
        },
        {
         "mode": "lines+markers",
         "name": "Sensor 15",
         "type": "scatter",
         "x": [
          0
         ],
         "xaxis": "x15",
         "y": [
          25.05
         ],
         "yaxis": "y15"
        },
        {
         "mode": "lines+markers",
         "name": "Sensor 16",
         "type": "scatter",
         "x": [
          0,
          1,
          2,
          3,
          4,
          5,
          6,
          7,
          8,
          9,
          10,
          11,
          12,
          13,
          14,
          15,
          16,
          17,
          18,
          19,
          20,
          21,
          22,
          23,
          24,
          25,
          26,
          27,
          28,
          29,
          30,
          31,
          32,
          33
         ],
         "xaxis": "x16",
         "y": [
          1707.5,
          1652.12,
          1602.59,
          1557.76,
          1517.53,
          1481.29,
          1448.69,
          1419.12,
          1392.58,
          1368.86,
          1347.37,
          1328.05,
          1310.76,
          1295.24,
          1281.15,
          1268.48,
          1257.15,
          1247.04,
          1238.01,
          1229.63,
          1222.19,
          1215.19,
          1209.32,
          1203.87,
          1198.78,
          1194.45,
          1190.52,
          1186.85,
          1183.6,
          1180.6,
          1178.17,
          1175.9,
          1174.04,
          1172.06
         ],
         "yaxis": "y16"
        },
        {
         "mode": "lines+markers",
         "name": "Sensor 17",
         "type": "scatter",
         "x": [
          0,
          1,
          2,
          3,
          4,
          5,
          6,
          7,
          8,
          9,
          10,
          11,
          12,
          13,
          14,
          15,
          16,
          17,
          18,
          19,
          20,
          21,
          22,
          23,
          24,
          25
         ],
         "xaxis": "x17",
         "y": [
          9.46,
          9.84,
          9.94,
          10.13,
          10.37,
          10.43,
          10.57,
          10.75,
          10.86,
          10.9,
          10.92,
          10.9,
          11.11,
          11.35,
          11.24,
          11.1,
          11.3,
          11.42,
          11.53,
          11.61,
          11.55,
          11.56,
          11.66,
          11.8,
          11.81,
          11.8
         ],
         "yaxis": "y17"
        },
        {
         "mode": "lines+markers",
         "name": "Sensor 18",
         "type": "scatter",
         "x": [
          0,
          1,
          2,
          3,
          4,
          5
         ],
         "xaxis": "x18",
         "y": [
          16.51,
          15.9,
          15.36,
          14.82,
          14.42,
          14.07
         ],
         "yaxis": "y18"
        },
        {
         "mode": "lines+markers",
         "name": "Sensor 19",
         "type": "scatter",
         "x": [
          0,
          1,
          2,
          3,
          4,
          5,
          6,
          7,
          8,
          9,
          10,
          11,
          12
         ],
         "xaxis": "x19",
         "y": [
          12095.69,
          12141.01,
          12181.88,
          12218.78,
          12251.93,
          12281.54,
          12308.59,
          12332.56,
          12354.44,
          12374.08,
          12391.7,
          12407.63,
          12421.85
         ],
         "yaxis": "y19"
        },
        {
         "mode": "lines+markers",
         "name": "Sensor 20",
         "type": "scatter",
         "x": [
          0
         ],
         "xaxis": "x20",
         "y": [
          134.65
         ],
         "yaxis": "y20"
        },
        {
         "mode": "lines+markers",
         "name": "Sensor 21",
         "type": "scatter",
         "x": [
          0,
          1,
          2,
          3,
          4,
          5,
          6,
          7,
          8,
          9,
          10,
          11,
          12,
          13,
          14,
          15,
          16,
          17,
          18,
          19,
          20,
          21,
          22,
          23,
          24,
          25,
          26,
          27,
          28,
          29,
          30,
          31,
          32,
          33
         ],
         "xaxis": "x21",
         "y": [
          1452.13,
          1419.94,
          1390.79,
          1364.73,
          1341.33,
          1320.27,
          1301.25,
          1284.12,
          1268.9,
          1255.18,
          1242.69,
          1231.31,
          1221.19,
          1212.06,
          1203.82,
          1196.55,
          1189.79,
          1183.85,
          1178.38,
          1173.66,
          1169.15,
          1165.21,
          1161.87,
          1158.65,
          1155.77,
          1153.17,
          1150.75,
          1148.82,
          1146.81,
          1145.13,
          1143.61,
          1142.3,
          1141.15,
          1140.06
         ],
         "yaxis": "y21"
        },
        {
         "mode": "lines+markers",
         "name": "Sensor 22",
         "type": "scatter",
         "x": [
          0,
          1,
          2,
          3,
          4,
          5,
          6,
          7,
          8,
          9,
          10,
          11,
          12,
          13,
          14,
          15,
          16,
          17,
          18,
          19,
          20,
          21,
          22,
          23,
          24,
          25
         ],
         "xaxis": "x22",
         "y": [
          7.1,
          7.47,
          7.79,
          7.91,
          8.07,
          8.38,
          8.71,
          8.82,
          8.88,
          9.14,
          9.09,
          9.11,
          9.25,
          9.41,
          9.49,
          9.57,
          9.78,
          9.71,
          9.69,
          9.69,
          9.71,
          9.75,
          9.69,
          9.99,
          10.12,
          10.2
         ],
         "yaxis": "y22"
        },
        {
         "mode": "lines+markers",
         "name": "Sensor 23",
         "type": "scatter",
         "x": [
          0,
          1,
          2,
          3,
          4,
          5
         ],
         "xaxis": "x23",
         "y": [
          26.95,
          25.64,
          24.67,
          23.76,
          22.87,
          21.96
         ],
         "yaxis": "y23"
        },
        {
         "mode": "lines+markers",
         "name": "Sensor 24",
         "type": "scatter",
         "x": [
          0,
          1,
          2,
          3,
          4,
          5,
          6,
          7,
          8,
          9,
          10,
          11,
          12
         ],
         "xaxis": "x24",
         "y": [
          14202.58,
          14352.24,
          14487.22,
          14608.48,
          14717.61,
          14816.13,
          14904.43,
          14983.89,
          15055.52,
          15120.02,
          15177.91,
          15229.87,
          15276.87
         ],
         "yaxis": "y24"
        },
        {
         "mode": "lines+markers",
         "name": "Sensor 25",
         "type": "scatter",
         "x": [
          0
         ],
         "xaxis": "x25",
         "y": [
          12.5
         ],
         "yaxis": "y25"
        }
       ],
       "layout": {
        "annotations": [
         {
          "font": {
           "size": 16
          },
          "showarrow": false,
          "text": "Sensor 1",
          "x": 0.5,
          "xanchor": "center",
          "xref": "paper",
          "y": 1,
          "yanchor": "bottom",
          "yref": "paper"
         },
         {
          "font": {
           "size": 16
          },
          "showarrow": false,
          "text": "Sensor 2",
          "x": 0.5,
          "xanchor": "center",
          "xref": "paper",
          "y": 0.9592,
          "yanchor": "bottom",
          "yref": "paper"
         },
         {
          "font": {
           "size": 16
          },
          "showarrow": false,
          "text": "Sensor 3",
          "x": 0.5,
          "xanchor": "center",
          "xref": "paper",
          "y": 0.9184,
          "yanchor": "bottom",
          "yref": "paper"
         },
         {
          "font": {
           "size": 16
          },
          "showarrow": false,
          "text": "Sensor 4",
          "x": 0.5,
          "xanchor": "center",
          "xref": "paper",
          "y": 0.8776,
          "yanchor": "bottom",
          "yref": "paper"
         },
         {
          "font": {
           "size": 16
          },
          "showarrow": false,
          "text": "Sensor 5",
          "x": 0.5,
          "xanchor": "center",
          "xref": "paper",
          "y": 0.8368000000000001,
          "yanchor": "bottom",
          "yref": "paper"
         },
         {
          "font": {
           "size": 16
          },
          "showarrow": false,
          "text": "Sensor 6",
          "x": 0.5,
          "xanchor": "center",
          "xref": "paper",
          "y": 0.796,
          "yanchor": "bottom",
          "yref": "paper"
         },
         {
          "font": {
           "size": 16
          },
          "showarrow": false,
          "text": "Sensor 7",
          "x": 0.5,
          "xanchor": "center",
          "xref": "paper",
          "y": 0.7552,
          "yanchor": "bottom",
          "yref": "paper"
         },
         {
          "font": {
           "size": 16
          },
          "showarrow": false,
          "text": "Sensor 8",
          "x": 0.5,
          "xanchor": "center",
          "xref": "paper",
          "y": 0.7144,
          "yanchor": "bottom",
          "yref": "paper"
         },
         {
          "font": {
           "size": 16
          },
          "showarrow": false,
          "text": "Sensor 9",
          "x": 0.5,
          "xanchor": "center",
          "xref": "paper",
          "y": 0.6736000000000001,
          "yanchor": "bottom",
          "yref": "paper"
         },
         {
          "font": {
           "size": 16
          },
          "showarrow": false,
          "text": "Sensor 10",
          "x": 0.5,
          "xanchor": "center",
          "xref": "paper",
          "y": 0.6328,
          "yanchor": "bottom",
          "yref": "paper"
         },
         {
          "font": {
           "size": 16
          },
          "showarrow": false,
          "text": "Sensor 11",
          "x": 0.5,
          "xanchor": "center",
          "xref": "paper",
          "y": 0.5920000000000001,
          "yanchor": "bottom",
          "yref": "paper"
         },
         {
          "font": {
           "size": 16
          },
          "showarrow": false,
          "text": "Sensor 12",
          "x": 0.5,
          "xanchor": "center",
          "xref": "paper",
          "y": 0.5512,
          "yanchor": "bottom",
          "yref": "paper"
         },
         {
          "font": {
           "size": 16
          },
          "showarrow": false,
          "text": "Sensor 13",
          "x": 0.5,
          "xanchor": "center",
          "xref": "paper",
          "y": 0.5104,
          "yanchor": "bottom",
          "yref": "paper"
         },
         {
          "font": {
           "size": 16
          },
          "showarrow": false,
          "text": "Sensor 14",
          "x": 0.5,
          "xanchor": "center",
          "xref": "paper",
          "y": 0.46959999999999996,
          "yanchor": "bottom",
          "yref": "paper"
         },
         {
          "font": {
           "size": 16
          },
          "showarrow": false,
          "text": "Sensor 15",
          "x": 0.5,
          "xanchor": "center",
          "xref": "paper",
          "y": 0.4288,
          "yanchor": "bottom",
          "yref": "paper"
         },
         {
          "font": {
           "size": 16
          },
          "showarrow": false,
          "text": "Sensor 16",
          "x": 0.5,
          "xanchor": "center",
          "xref": "paper",
          "y": 0.38799999999999996,
          "yanchor": "bottom",
          "yref": "paper"
         },
         {
          "font": {
           "size": 16
          },
          "showarrow": false,
          "text": "Sensor 17",
          "x": 0.5,
          "xanchor": "center",
          "xref": "paper",
          "y": 0.3472,
          "yanchor": "bottom",
          "yref": "paper"
         },
         {
          "font": {
           "size": 16
          },
          "showarrow": false,
          "text": "Sensor 18",
          "x": 0.5,
          "xanchor": "center",
          "xref": "paper",
          "y": 0.3064,
          "yanchor": "bottom",
          "yref": "paper"
         },
         {
          "font": {
           "size": 16
          },
          "showarrow": false,
          "text": "Sensor 19",
          "x": 0.5,
          "xanchor": "center",
          "xref": "paper",
          "y": 0.2656,
          "yanchor": "bottom",
          "yref": "paper"
         },
         {
          "font": {
           "size": 16
          },
          "showarrow": false,
          "text": "Sensor 20",
          "x": 0.5,
          "xanchor": "center",
          "xref": "paper",
          "y": 0.2248,
          "yanchor": "bottom",
          "yref": "paper"
         },
         {
          "font": {
           "size": 16
          },
          "showarrow": false,
          "text": "Sensor 21",
          "x": 0.5,
          "xanchor": "center",
          "xref": "paper",
          "y": 0.184,
          "yanchor": "bottom",
          "yref": "paper"
         },
         {
          "font": {
           "size": 16
          },
          "showarrow": false,
          "text": "Sensor 22",
          "x": 0.5,
          "xanchor": "center",
          "xref": "paper",
          "y": 0.1432,
          "yanchor": "bottom",
          "yref": "paper"
         },
         {
          "font": {
           "size": 16
          },
          "showarrow": false,
          "text": "Sensor 23",
          "x": 0.5,
          "xanchor": "center",
          "xref": "paper",
          "y": 0.1024,
          "yanchor": "bottom",
          "yref": "paper"
         },
         {
          "font": {
           "size": 16
          },
          "showarrow": false,
          "text": "Sensor 24",
          "x": 0.5,
          "xanchor": "center",
          "xref": "paper",
          "y": 0.0616,
          "yanchor": "bottom",
          "yref": "paper"
         },
         {
          "font": {
           "size": 16
          },
          "showarrow": false,
          "text": "Sensor 25",
          "x": 0.5,
          "xanchor": "center",
          "xref": "paper",
          "y": 0.0208,
          "yanchor": "bottom",
          "yref": "paper"
         }
        ],
        "height": 7500,
        "showlegend": false,
        "template": {
         "data": {
          "bar": [
           {
            "error_x": {
             "color": "#2a3f5f"
            },
            "error_y": {
             "color": "#2a3f5f"
            },
            "marker": {
             "line": {
              "color": "#E5ECF6",
              "width": 0.5
             },
             "pattern": {
              "fillmode": "overlay",
              "size": 10,
              "solidity": 0.2
             }
            },
            "type": "bar"
           }
          ],
          "barpolar": [
           {
            "marker": {
             "line": {
              "color": "#E5ECF6",
              "width": 0.5
             },
             "pattern": {
              "fillmode": "overlay",
              "size": 10,
              "solidity": 0.2
             }
            },
            "type": "barpolar"
           }
          ],
          "carpet": [
           {
            "aaxis": {
             "endlinecolor": "#2a3f5f",
             "gridcolor": "white",
             "linecolor": "white",
             "minorgridcolor": "white",
             "startlinecolor": "#2a3f5f"
            },
            "baxis": {
             "endlinecolor": "#2a3f5f",
             "gridcolor": "white",
             "linecolor": "white",
             "minorgridcolor": "white",
             "startlinecolor": "#2a3f5f"
            },
            "type": "carpet"
           }
          ],
          "choropleth": [
           {
            "colorbar": {
             "outlinewidth": 0,
             "ticks": ""
            },
            "type": "choropleth"
           }
          ],
          "contour": [
           {
            "colorbar": {
             "outlinewidth": 0,
             "ticks": ""
            },
            "colorscale": [
             [
              0,
              "#0d0887"
             ],
             [
              0.1111111111111111,
              "#46039f"
             ],
             [
              0.2222222222222222,
              "#7201a8"
             ],
             [
              0.3333333333333333,
              "#9c179e"
             ],
             [
              0.4444444444444444,
              "#bd3786"
             ],
             [
              0.5555555555555556,
              "#d8576b"
             ],
             [
              0.6666666666666666,
              "#ed7953"
             ],
             [
              0.7777777777777778,
              "#fb9f3a"
             ],
             [
              0.8888888888888888,
              "#fdca26"
             ],
             [
              1,
              "#f0f921"
             ]
            ],
            "type": "contour"
           }
          ],
          "contourcarpet": [
           {
            "colorbar": {
             "outlinewidth": 0,
             "ticks": ""
            },
            "type": "contourcarpet"
           }
          ],
          "heatmap": [
           {
            "colorbar": {
             "outlinewidth": 0,
             "ticks": ""
            },
            "colorscale": [
             [
              0,
              "#0d0887"
             ],
             [
              0.1111111111111111,
              "#46039f"
             ],
             [
              0.2222222222222222,
              "#7201a8"
             ],
             [
              0.3333333333333333,
              "#9c179e"
             ],
             [
              0.4444444444444444,
              "#bd3786"
             ],
             [
              0.5555555555555556,
              "#d8576b"
             ],
             [
              0.6666666666666666,
              "#ed7953"
             ],
             [
              0.7777777777777778,
              "#fb9f3a"
             ],
             [
              0.8888888888888888,
              "#fdca26"
             ],
             [
              1,
              "#f0f921"
             ]
            ],
            "type": "heatmap"
           }
          ],
          "heatmapgl": [
           {
            "colorbar": {
             "outlinewidth": 0,
             "ticks": ""
            },
            "colorscale": [
             [
              0,
              "#0d0887"
             ],
             [
              0.1111111111111111,
              "#46039f"
             ],
             [
              0.2222222222222222,
              "#7201a8"
             ],
             [
              0.3333333333333333,
              "#9c179e"
             ],
             [
              0.4444444444444444,
              "#bd3786"
             ],
             [
              0.5555555555555556,
              "#d8576b"
             ],
             [
              0.6666666666666666,
              "#ed7953"
             ],
             [
              0.7777777777777778,
              "#fb9f3a"
             ],
             [
              0.8888888888888888,
              "#fdca26"
             ],
             [
              1,
              "#f0f921"
             ]
            ],
            "type": "heatmapgl"
           }
          ],
          "histogram": [
           {
            "marker": {
             "pattern": {
              "fillmode": "overlay",
              "size": 10,
              "solidity": 0.2
             }
            },
            "type": "histogram"
           }
          ],
          "histogram2d": [
           {
            "colorbar": {
             "outlinewidth": 0,
             "ticks": ""
            },
            "colorscale": [
             [
              0,
              "#0d0887"
             ],
             [
              0.1111111111111111,
              "#46039f"
             ],
             [
              0.2222222222222222,
              "#7201a8"
             ],
             [
              0.3333333333333333,
              "#9c179e"
             ],
             [
              0.4444444444444444,
              "#bd3786"
             ],
             [
              0.5555555555555556,
              "#d8576b"
             ],
             [
              0.6666666666666666,
              "#ed7953"
             ],
             [
              0.7777777777777778,
              "#fb9f3a"
             ],
             [
              0.8888888888888888,
              "#fdca26"
             ],
             [
              1,
              "#f0f921"
             ]
            ],
            "type": "histogram2d"
           }
          ],
          "histogram2dcontour": [
           {
            "colorbar": {
             "outlinewidth": 0,
             "ticks": ""
            },
            "colorscale": [
             [
              0,
              "#0d0887"
             ],
             [
              0.1111111111111111,
              "#46039f"
             ],
             [
              0.2222222222222222,
              "#7201a8"
             ],
             [
              0.3333333333333333,
              "#9c179e"
             ],
             [
              0.4444444444444444,
              "#bd3786"
             ],
             [
              0.5555555555555556,
              "#d8576b"
             ],
             [
              0.6666666666666666,
              "#ed7953"
             ],
             [
              0.7777777777777778,
              "#fb9f3a"
             ],
             [
              0.8888888888888888,
              "#fdca26"
             ],
             [
              1,
              "#f0f921"
             ]
            ],
            "type": "histogram2dcontour"
           }
          ],
          "mesh3d": [
           {
            "colorbar": {
             "outlinewidth": 0,
             "ticks": ""
            },
            "type": "mesh3d"
           }
          ],
          "parcoords": [
           {
            "line": {
             "colorbar": {
              "outlinewidth": 0,
              "ticks": ""
             }
            },
            "type": "parcoords"
           }
          ],
          "pie": [
           {
            "automargin": true,
            "type": "pie"
           }
          ],
          "scatter": [
           {
            "fillpattern": {
             "fillmode": "overlay",
             "size": 10,
             "solidity": 0.2
            },
            "type": "scatter"
           }
          ],
          "scatter3d": [
           {
            "line": {
             "colorbar": {
              "outlinewidth": 0,
              "ticks": ""
             }
            },
            "marker": {
             "colorbar": {
              "outlinewidth": 0,
              "ticks": ""
             }
            },
            "type": "scatter3d"
           }
          ],
          "scattercarpet": [
           {
            "marker": {
             "colorbar": {
              "outlinewidth": 0,
              "ticks": ""
             }
            },
            "type": "scattercarpet"
           }
          ],
          "scattergeo": [
           {
            "marker": {
             "colorbar": {
              "outlinewidth": 0,
              "ticks": ""
             }
            },
            "type": "scattergeo"
           }
          ],
          "scattergl": [
           {
            "marker": {
             "colorbar": {
              "outlinewidth": 0,
              "ticks": ""
             }
            },
            "type": "scattergl"
           }
          ],
          "scattermapbox": [
           {
            "marker": {
             "colorbar": {
              "outlinewidth": 0,
              "ticks": ""
             }
            },
            "type": "scattermapbox"
           }
          ],
          "scatterpolar": [
           {
            "marker": {
             "colorbar": {
              "outlinewidth": 0,
              "ticks": ""
             }
            },
            "type": "scatterpolar"
           }
          ],
          "scatterpolargl": [
           {
            "marker": {
             "colorbar": {
              "outlinewidth": 0,
              "ticks": ""
             }
            },
            "type": "scatterpolargl"
           }
          ],
          "scatterternary": [
           {
            "marker": {
             "colorbar": {
              "outlinewidth": 0,
              "ticks": ""
             }
            },
            "type": "scatterternary"
           }
          ],
          "surface": [
           {
            "colorbar": {
             "outlinewidth": 0,
             "ticks": ""
            },
            "colorscale": [
             [
              0,
              "#0d0887"
             ],
             [
              0.1111111111111111,
              "#46039f"
             ],
             [
              0.2222222222222222,
              "#7201a8"
             ],
             [
              0.3333333333333333,
              "#9c179e"
             ],
             [
              0.4444444444444444,
              "#bd3786"
             ],
             [
              0.5555555555555556,
              "#d8576b"
             ],
             [
              0.6666666666666666,
              "#ed7953"
             ],
             [
              0.7777777777777778,
              "#fb9f3a"
             ],
             [
              0.8888888888888888,
              "#fdca26"
             ],
             [
              1,
              "#f0f921"
             ]
            ],
            "type": "surface"
           }
          ],
          "table": [
           {
            "cells": {
             "fill": {
              "color": "#EBF0F8"
             },
             "line": {
              "color": "white"
             }
            },
            "header": {
             "fill": {
              "color": "#C8D4E3"
             },
             "line": {
              "color": "white"
             }
            },
            "type": "table"
           }
          ]
         },
         "layout": {
          "annotationdefaults": {
           "arrowcolor": "#2a3f5f",
           "arrowhead": 0,
           "arrowwidth": 1
          },
          "autotypenumbers": "strict",
          "coloraxis": {
           "colorbar": {
            "outlinewidth": 0,
            "ticks": ""
           }
          },
          "colorscale": {
           "diverging": [
            [
             0,
             "#8e0152"
            ],
            [
             0.1,
             "#c51b7d"
            ],
            [
             0.2,
             "#de77ae"
            ],
            [
             0.3,
             "#f1b6da"
            ],
            [
             0.4,
             "#fde0ef"
            ],
            [
             0.5,
             "#f7f7f7"
            ],
            [
             0.6,
             "#e6f5d0"
            ],
            [
             0.7,
             "#b8e186"
            ],
            [
             0.8,
             "#7fbc41"
            ],
            [
             0.9,
             "#4d9221"
            ],
            [
             1,
             "#276419"
            ]
           ],
           "sequential": [
            [
             0,
             "#0d0887"
            ],
            [
             0.1111111111111111,
             "#46039f"
            ],
            [
             0.2222222222222222,
             "#7201a8"
            ],
            [
             0.3333333333333333,
             "#9c179e"
            ],
            [
             0.4444444444444444,
             "#bd3786"
            ],
            [
             0.5555555555555556,
             "#d8576b"
            ],
            [
             0.6666666666666666,
             "#ed7953"
            ],
            [
             0.7777777777777778,
             "#fb9f3a"
            ],
            [
             0.8888888888888888,
             "#fdca26"
            ],
            [
             1,
             "#f0f921"
            ]
           ],
           "sequentialminus": [
            [
             0,
             "#0d0887"
            ],
            [
             0.1111111111111111,
             "#46039f"
            ],
            [
             0.2222222222222222,
             "#7201a8"
            ],
            [
             0.3333333333333333,
             "#9c179e"
            ],
            [
             0.4444444444444444,
             "#bd3786"
            ],
            [
             0.5555555555555556,
             "#d8576b"
            ],
            [
             0.6666666666666666,
             "#ed7953"
            ],
            [
             0.7777777777777778,
             "#fb9f3a"
            ],
            [
             0.8888888888888888,
             "#fdca26"
            ],
            [
             1,
             "#f0f921"
            ]
           ]
          },
          "colorway": [
           "#636efa",
           "#EF553B",
           "#00cc96",
           "#ab63fa",
           "#FFA15A",
           "#19d3f3",
           "#FF6692",
           "#B6E880",
           "#FF97FF",
           "#FECB52"
          ],
          "font": {
           "color": "#2a3f5f"
          },
          "geo": {
           "bgcolor": "white",
           "lakecolor": "white",
           "landcolor": "#E5ECF6",
           "showlakes": true,
           "showland": true,
           "subunitcolor": "white"
          },
          "hoverlabel": {
           "align": "left"
          },
          "hovermode": "closest",
          "mapbox": {
           "style": "light"
          },
          "paper_bgcolor": "white",
          "plot_bgcolor": "#E5ECF6",
          "polar": {
           "angularaxis": {
            "gridcolor": "white",
            "linecolor": "white",
            "ticks": ""
           },
           "bgcolor": "#E5ECF6",
           "radialaxis": {
            "gridcolor": "white",
            "linecolor": "white",
            "ticks": ""
           }
          },
          "scene": {
           "xaxis": {
            "backgroundcolor": "#E5ECF6",
            "gridcolor": "white",
            "gridwidth": 2,
            "linecolor": "white",
            "showbackground": true,
            "ticks": "",
            "zerolinecolor": "white"
           },
           "yaxis": {
            "backgroundcolor": "#E5ECF6",
            "gridcolor": "white",
            "gridwidth": 2,
            "linecolor": "white",
            "showbackground": true,
            "ticks": "",
            "zerolinecolor": "white"
           },
           "zaxis": {
            "backgroundcolor": "#E5ECF6",
            "gridcolor": "white",
            "gridwidth": 2,
            "linecolor": "white",
            "showbackground": true,
            "ticks": "",
            "zerolinecolor": "white"
           }
          },
          "shapedefaults": {
           "line": {
            "color": "#2a3f5f"
           }
          },
          "ternary": {
           "aaxis": {
            "gridcolor": "white",
            "linecolor": "white",
            "ticks": ""
           },
           "baxis": {
            "gridcolor": "white",
            "linecolor": "white",
            "ticks": ""
           },
           "bgcolor": "#E5ECF6",
           "caxis": {
            "gridcolor": "white",
            "linecolor": "white",
            "ticks": ""
           }
          },
          "title": {
           "x": 0.05
          },
          "xaxis": {
           "automargin": true,
           "gridcolor": "white",
           "linecolor": "white",
           "ticks": "",
           "title": {
            "standoff": 15
           },
           "zerolinecolor": "white",
           "zerolinewidth": 2
          },
          "yaxis": {
           "automargin": true,
           "gridcolor": "white",
           "linecolor": "white",
           "ticks": "",
           "title": {
            "standoff": 15
           },
           "zerolinecolor": "white",
           "zerolinewidth": 2
          }
         }
        },
        "title": {
         "text": "Sensor Data Over Time"
        },
        "xaxis": {
         "anchor": "y",
         "domain": [
          0,
          1
         ],
         "matches": "x25",
         "showticklabels": false
        },
        "xaxis10": {
         "anchor": "y10",
         "domain": [
          0,
          1
         ],
         "matches": "x25",
         "showticklabels": false
        },
        "xaxis11": {
         "anchor": "y11",
         "domain": [
          0,
          1
         ],
         "matches": "x25",
         "showticklabels": false
        },
        "xaxis12": {
         "anchor": "y12",
         "domain": [
          0,
          1
         ],
         "matches": "x25",
         "showticklabels": false
        },
        "xaxis13": {
         "anchor": "y13",
         "domain": [
          0,
          1
         ],
         "matches": "x25",
         "showticklabels": false
        },
        "xaxis14": {
         "anchor": "y14",
         "domain": [
          0,
          1
         ],
         "matches": "x25",
         "showticklabels": false
        },
        "xaxis15": {
         "anchor": "y15",
         "domain": [
          0,
          1
         ],
         "matches": "x25",
         "showticklabels": false
        },
        "xaxis16": {
         "anchor": "y16",
         "domain": [
          0,
          1
         ],
         "matches": "x25",
         "showticklabels": false
        },
        "xaxis17": {
         "anchor": "y17",
         "domain": [
          0,
          1
         ],
         "matches": "x25",
         "showticklabels": false
        },
        "xaxis18": {
         "anchor": "y18",
         "domain": [
          0,
          1
         ],
         "matches": "x25",
         "showticklabels": false
        },
        "xaxis19": {
         "anchor": "y19",
         "domain": [
          0,
          1
         ],
         "matches": "x25",
         "showticklabels": false
        },
        "xaxis2": {
         "anchor": "y2",
         "domain": [
          0,
          1
         ],
         "matches": "x25",
         "showticklabels": false
        },
        "xaxis20": {
         "anchor": "y20",
         "domain": [
          0,
          1
         ],
         "matches": "x25",
         "showticklabels": false
        },
        "xaxis21": {
         "anchor": "y21",
         "domain": [
          0,
          1
         ],
         "matches": "x25",
         "showticklabels": false
        },
        "xaxis22": {
         "anchor": "y22",
         "domain": [
          0,
          1
         ],
         "matches": "x25",
         "showticklabels": false
        },
        "xaxis23": {
         "anchor": "y23",
         "domain": [
          0,
          1
         ],
         "matches": "x25",
         "showticklabels": false
        },
        "xaxis24": {
         "anchor": "y24",
         "domain": [
          0,
          1
         ],
         "matches": "x25",
         "showticklabels": false
        },
        "xaxis25": {
         "anchor": "y25",
         "domain": [
          0,
          1
         ]
        },
        "xaxis3": {
         "anchor": "y3",
         "domain": [
          0,
          1
         ],
         "matches": "x25",
         "showticklabels": false
        },
        "xaxis4": {
         "anchor": "y4",
         "domain": [
          0,
          1
         ],
         "matches": "x25",
         "showticklabels": false
        },
        "xaxis5": {
         "anchor": "y5",
         "domain": [
          0,
          1
         ],
         "matches": "x25",
         "showticklabels": false
        },
        "xaxis6": {
         "anchor": "y6",
         "domain": [
          0,
          1
         ],
         "matches": "x25",
         "showticklabels": false
        },
        "xaxis7": {
         "anchor": "y7",
         "domain": [
          0,
          1
         ],
         "matches": "x25",
         "showticklabels": false
        },
        "xaxis8": {
         "anchor": "y8",
         "domain": [
          0,
          1
         ],
         "matches": "x25",
         "showticklabels": false
        },
        "xaxis9": {
         "anchor": "y9",
         "domain": [
          0,
          1
         ],
         "matches": "x25",
         "showticklabels": false
        },
        "yaxis": {
         "anchor": "x",
         "domain": [
          0.9792,
          1
         ]
        },
        "yaxis10": {
         "anchor": "x10",
         "domain": [
          0.612,
          0.6328
         ]
        },
        "yaxis11": {
         "anchor": "x11",
         "domain": [
          0.5712,
          0.5920000000000001
         ]
        },
        "yaxis12": {
         "anchor": "x12",
         "domain": [
          0.5304,
          0.5512
         ]
        },
        "yaxis13": {
         "anchor": "x13",
         "domain": [
          0.4896,
          0.5104
         ]
        },
        "yaxis14": {
         "anchor": "x14",
         "domain": [
          0.4488,
          0.46959999999999996
         ]
        },
        "yaxis15": {
         "anchor": "x15",
         "domain": [
          0.40800000000000003,
          0.4288
         ]
        },
        "yaxis16": {
         "anchor": "x16",
         "domain": [
          0.36719999999999997,
          0.38799999999999996
         ]
        },
        "yaxis17": {
         "anchor": "x17",
         "domain": [
          0.3264,
          0.3472
         ]
        },
        "yaxis18": {
         "anchor": "x18",
         "domain": [
          0.2856,
          0.3064
         ]
        },
        "yaxis19": {
         "anchor": "x19",
         "domain": [
          0.2448,
          0.2656
         ]
        },
        "yaxis2": {
         "anchor": "x2",
         "domain": [
          0.9384,
          0.9592
         ]
        },
        "yaxis20": {
         "anchor": "x20",
         "domain": [
          0.20400000000000001,
          0.2248
         ]
        },
        "yaxis21": {
         "anchor": "x21",
         "domain": [
          0.1632,
          0.184
         ]
        },
        "yaxis22": {
         "anchor": "x22",
         "domain": [
          0.1224,
          0.1432
         ]
        },
        "yaxis23": {
         "anchor": "x23",
         "domain": [
          0.0816,
          0.1024
         ]
        },
        "yaxis24": {
         "anchor": "x24",
         "domain": [
          0.0408,
          0.0616
         ]
        },
        "yaxis25": {
         "anchor": "x25",
         "domain": [
          0,
          0.0208
         ]
        },
        "yaxis3": {
         "anchor": "x3",
         "domain": [
          0.8976,
          0.9184
         ]
        },
        "yaxis4": {
         "anchor": "x4",
         "domain": [
          0.8568,
          0.8776
         ]
        },
        "yaxis5": {
         "anchor": "x5",
         "domain": [
          0.8160000000000001,
          0.8368000000000001
         ]
        },
        "yaxis6": {
         "anchor": "x6",
         "domain": [
          0.7752,
          0.796
         ]
        },
        "yaxis7": {
         "anchor": "x7",
         "domain": [
          0.7343999999999999,
          0.7552
         ]
        },
        "yaxis8": {
         "anchor": "x8",
         "domain": [
          0.6936,
          0.7144
         ]
        },
        "yaxis9": {
         "anchor": "x9",
         "domain": [
          0.6528,
          0.6736000000000001
         ]
        }
       }
      }
     },
     "metadata": {},
     "output_type": "display_data"
    }
   ],
   "source": [
    "plot_data()"
   ]
  }
 ],
 "metadata": {
  "kernelspec": {
   "display_name": "sensors_env",
   "language": "python",
   "name": "python3"
  },
  "language_info": {
   "codemirror_mode": {
    "name": "ipython",
    "version": 3
   },
   "file_extension": ".py",
   "mimetype": "text/x-python",
   "name": "python",
   "nbconvert_exporter": "python",
   "pygments_lexer": "ipython3",
   "version": "3.12.5"
  }
 },
 "nbformat": 4,
 "nbformat_minor": 2
}
